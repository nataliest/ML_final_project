{
 "cells": [
  {
   "cell_type": "markdown",
   "metadata": {},
   "source": [
    "# Music vs. Speech classification using Neural Nets\n",
    "\n",
    "\n",
    "The classification has been performed using GTZAN dataset and a feature matrix from:\n",
    "\n",
    "https://github.com/jyotinarang2/Speech_Music_Classification/blob/master/gtzan_features.csv\n",
    "\n",
    "This code is based on the Neural Net lab from the NYU Tandon Machine Learning course:\n",
    "\n",
    "https://github.com/sdrangan/introml/blob/master/neural/lab07_music_partial.ipynb\n"
   ]
  },
  {
   "cell_type": "markdown",
   "metadata": {},
   "source": [
    "Load keras and the other packages:"
   ]
  },
  {
   "cell_type": "code",
   "execution_count": 1,
   "metadata": {},
   "outputs": [
    {
     "name": "stderr",
     "output_type": "stream",
     "text": [
      "Using TensorFlow backend.\n"
     ]
    }
   ],
   "source": [
    "import keras\n",
    "from __future__ import division # for Python 2.x"
   ]
  },
  {
   "cell_type": "code",
   "execution_count": 2,
   "metadata": {
    "collapsed": true
   },
   "outputs": [],
   "source": [
    "import numpy as np\n",
    "import pandas as pd\n",
    "import matplotlib\n",
    "import matplotlib.pyplot as plt\n",
    "%matplotlib inline"
   ]
  },
  {
   "cell_type": "markdown",
   "metadata": {},
   "source": [
    "## Preprocessing the data\n",
    "Load and display the data:"
   ]
  },
  {
   "cell_type": "code",
   "execution_count": 3,
   "metadata": {
    "scrolled": true
   },
   "outputs": [
    {
     "data": {
      "text/html": [
       "<div>\n",
       "<style>\n",
       "    .dataframe thead tr:only-child th {\n",
       "        text-align: right;\n",
       "    }\n",
       "\n",
       "    .dataframe thead th {\n",
       "        text-align: left;\n",
       "    }\n",
       "\n",
       "    .dataframe tbody tr th {\n",
       "        vertical-align: top;\n",
       "    }\n",
       "</style>\n",
       "<table border=\"1\" class=\"dataframe\">\n",
       "  <thead>\n",
       "    <tr style=\"text-align: right;\">\n",
       "      <th></th>\n",
       "      <th>RMS</th>\n",
       "      <th>Spectral Slope</th>\n",
       "      <th>Zero Crossings</th>\n",
       "      <th>MFCC(2)</th>\n",
       "      <th>Spectral RollOff</th>\n",
       "      <th>MFCC(4)</th>\n",
       "      <th>MFCC(13)</th>\n",
       "      <th>MFCC(11)</th>\n",
       "      <th>MFCC(1)</th>\n",
       "      <th>MFCC(12)</th>\n",
       "      <th>Spectral Spread</th>\n",
       "      <th>Class</th>\n",
       "    </tr>\n",
       "  </thead>\n",
       "  <tbody>\n",
       "    <tr>\n",
       "      <th>0</th>\n",
       "      <td>-20.187</td>\n",
       "      <td>-9.740000e-07</td>\n",
       "      <td>0.075458</td>\n",
       "      <td>2.2779</td>\n",
       "      <td>493</td>\n",
       "      <td>1.24320</td>\n",
       "      <td>0.095795</td>\n",
       "      <td>-0.128390</td>\n",
       "      <td>-25.954</td>\n",
       "      <td>-0.017165</td>\n",
       "      <td>616.68</td>\n",
       "      <td>'music'</td>\n",
       "    </tr>\n",
       "    <tr>\n",
       "      <th>1</th>\n",
       "      <td>-16.315</td>\n",
       "      <td>-2.270000e-06</td>\n",
       "      <td>0.098657</td>\n",
       "      <td>2.9004</td>\n",
       "      <td>462</td>\n",
       "      <td>0.36602</td>\n",
       "      <td>-0.339310</td>\n",
       "      <td>-0.050032</td>\n",
       "      <td>-22.565</td>\n",
       "      <td>-0.726760</td>\n",
       "      <td>878.82</td>\n",
       "      <td>'speech'</td>\n",
       "    </tr>\n",
       "    <tr>\n",
       "      <th>2</th>\n",
       "      <td>-21.369</td>\n",
       "      <td>-5.690000e-07</td>\n",
       "      <td>0.044689</td>\n",
       "      <td>2.3677</td>\n",
       "      <td>1184</td>\n",
       "      <td>0.75089</td>\n",
       "      <td>0.198910</td>\n",
       "      <td>0.214620</td>\n",
       "      <td>-27.885</td>\n",
       "      <td>0.434850</td>\n",
       "      <td>597.75</td>\n",
       "      <td>'music'</td>\n",
       "    </tr>\n",
       "    <tr>\n",
       "      <th>3</th>\n",
       "      <td>-17.724</td>\n",
       "      <td>-1.230000e-06</td>\n",
       "      <td>0.116730</td>\n",
       "      <td>1.8504</td>\n",
       "      <td>1170</td>\n",
       "      <td>0.72793</td>\n",
       "      <td>0.125660</td>\n",
       "      <td>0.197170</td>\n",
       "      <td>-23.188</td>\n",
       "      <td>0.333370</td>\n",
       "      <td>1250.10</td>\n",
       "      <td>'music'</td>\n",
       "    </tr>\n",
       "    <tr>\n",
       "      <th>4</th>\n",
       "      <td>-29.913</td>\n",
       "      <td>-4.980000e-07</td>\n",
       "      <td>0.094017</td>\n",
       "      <td>2.3898</td>\n",
       "      <td>561</td>\n",
       "      <td>1.44410</td>\n",
       "      <td>0.631700</td>\n",
       "      <td>-0.117360</td>\n",
       "      <td>-26.718</td>\n",
       "      <td>-0.440910</td>\n",
       "      <td>1015.50</td>\n",
       "      <td>'speech'</td>\n",
       "    </tr>\n",
       "    <tr>\n",
       "      <th>5</th>\n",
       "      <td>-14.613</td>\n",
       "      <td>-1.400000e-06</td>\n",
       "      <td>0.136750</td>\n",
       "      <td>1.4418</td>\n",
       "      <td>957</td>\n",
       "      <td>0.81468</td>\n",
       "      <td>0.315170</td>\n",
       "      <td>-0.548860</td>\n",
       "      <td>-23.978</td>\n",
       "      <td>0.122330</td>\n",
       "      <td>1283.50</td>\n",
       "      <td>'music'</td>\n",
       "    </tr>\n",
       "  </tbody>\n",
       "</table>\n",
       "</div>"
      ],
      "text/plain": [
       "      RMS  Spectral Slope  Zero Crossings  MFCC(2)  Spectral RollOff  MFCC(4)  \\\n",
       "0 -20.187   -9.740000e-07        0.075458   2.2779               493  1.24320   \n",
       "1 -16.315   -2.270000e-06        0.098657   2.9004               462  0.36602   \n",
       "2 -21.369   -5.690000e-07        0.044689   2.3677              1184  0.75089   \n",
       "3 -17.724   -1.230000e-06        0.116730   1.8504              1170  0.72793   \n",
       "4 -29.913   -4.980000e-07        0.094017   2.3898               561  1.44410   \n",
       "5 -14.613   -1.400000e-06        0.136750   1.4418               957  0.81468   \n",
       "\n",
       "   MFCC(13)  MFCC(11)  MFCC(1)  MFCC(12)  Spectral Spread     Class  \n",
       "0  0.095795 -0.128390  -25.954 -0.017165           616.68   'music'  \n",
       "1 -0.339310 -0.050032  -22.565 -0.726760           878.82  'speech'  \n",
       "2  0.198910  0.214620  -27.885  0.434850           597.75   'music'  \n",
       "3  0.125660  0.197170  -23.188  0.333370          1250.10   'music'  \n",
       "4  0.631700 -0.117360  -26.718 -0.440910          1015.50  'speech'  \n",
       "5  0.315170 -0.548860  -23.978  0.122330          1283.50   'music'  "
      ]
     },
     "execution_count": 3,
     "metadata": {},
     "output_type": "execute_result"
    }
   ],
   "source": [
    "names = ['RMS','Spectral Slope','Zero Crossings','MFCC(2)','Spectral RollOff','MFCC(4)','MFCC(13)','MFCC(11)','MFCC(1)','MFCC(12)','Spectral Spread','Class']\n",
    "df = pd.read_csv('https://raw.githubusercontent.com/jyotinarang2/Speech_Music_Classification/master/gtzan_features.csv',\n",
    "                names=names,na_values='?',header=0)\n",
    "\n",
    "df = df.dropna()\n",
    "df.head(6)"
   ]
  },
  {
   "cell_type": "markdown",
   "metadata": {},
   "source": [
    "Number of samples and features:"
   ]
  },
  {
   "cell_type": "code",
   "execution_count": 4,
   "metadata": {
    "scrolled": true
   },
   "outputs": [
    {
     "name": "stdout",
     "output_type": "stream",
     "text": [
      "There are 41344 samples with 11 features in the dataset.\n"
     ]
    }
   ],
   "source": [
    "samples, features = df.shape\n",
    "print(\"There are {0} samples with {1} features in the dataset.\".format(samples, features-1))"
   ]
  },
  {
   "cell_type": "markdown",
   "metadata": {},
   "source": [
    "Use 30000 samples for training and 11344 samples for testing"
   ]
  },
  {
   "cell_type": "code",
   "execution_count": 5,
   "metadata": {
    "collapsed": true
   },
   "outputs": [],
   "source": [
    "xnames =['RMS','Spectral Slope','Zero Crossings','MFCC(2)','Spectral RollOff',\n",
    "         'MFCC(4)','MFCC(13)','MFCC(11)','MFCC(1)','MFCC(12)','Spectral Spread'] \n",
    "\n",
    "Xtr = np.array(df[xnames][:30000])\n",
    "Xts = np.array(df[xnames][30000:])\n",
    "ytr = np.array(df['Class'].values[:30000])\n",
    "yts = np.array(df['Class'][30000:])\n",
    "\n",
    "a,ytr = np.unique(ytr, return_inverse=True)\n",
    "a,yts = np.unique(yts, return_inverse=True)\n"
   ]
  },
  {
   "cell_type": "markdown",
   "metadata": {},
   "source": [
    "Scale the training set by subtracting its mean and dividing by standard deviation.\n",
    "Scale the testing set subtracting the mean and dividing by the standard deviation of the training set."
   ]
  },
  {
   "cell_type": "code",
   "execution_count": 6,
   "metadata": {
    "collapsed": true
   },
   "outputs": [],
   "source": [
    "# Scale the training and test matrices\n",
    "mean = np.mean(Xtr, axis = 0)\n",
    "\n",
    "std = np.std(Xtr, axis = 0)\n",
    "\n",
    "Xtr_scale = (Xtr - mean) / std\n",
    "\n",
    "Xts_scale = (Xts - mean) / std\n"
   ]
  },
  {
   "cell_type": "code",
   "execution_count": 7,
   "metadata": {},
   "outputs": [
    {
     "name": "stdout",
     "output_type": "stream",
     "text": [
      "(30000,)\n",
      "Number of training and test samples: 30000 and 11344 accordingly.\n",
      "Number of features for each sample: 11.\n",
      "Number of classes (i.e. speech and music): 2.\n"
     ]
    }
   ],
   "source": [
    "samples_tr, features_tr = np.shape(Xtr)\n",
    "samples_ts, features_ts = np.shape(Xts)\n",
    "\n",
    "num_labels = len(np.unique(yts))\n",
    "\n",
    "print(np.shape(ytr))\n",
    "\n",
    "print(\"Number of training and test samples: {0} and {1} accordingly.\".format(samples_tr, samples_ts))\n",
    "print(\"Number of features for each sample: {0}.\".format(features_tr))\n",
    "print(\"Number of classes (i.e. speech and music): {0}.\".format(num_labels))"
   ]
  },
  {
   "cell_type": "markdown",
   "metadata": {
    "collapsed": true
   },
   "source": [
    "## Building a Neural Network Classifier\n",
    "\n",
    "The following neural network `model` has:\n",
    "* `nh=500` hidden units\n",
    "* `sigmoid` activation\n"
   ]
  },
  {
   "cell_type": "code",
   "execution_count": 289,
   "metadata": {
    "collapsed": true
   },
   "outputs": [],
   "source": [
    "from keras.models import Model, Sequential\n",
    "from keras.layers import Dense, Activation"
   ]
  },
  {
   "cell_type": "markdown",
   "metadata": {},
   "source": [
    "Clear the Keras session:"
   ]
  },
  {
   "cell_type": "code",
   "execution_count": 290,
   "metadata": {
    "collapsed": true
   },
   "outputs": [],
   "source": [
    "import keras.backend as K\n",
    "K.clear_session()"
   ]
  },
  {
   "cell_type": "markdown",
   "metadata": {},
   "source": [
    "Create the model:"
   ]
  },
  {
   "cell_type": "code",
   "execution_count": 291,
   "metadata": {
    "collapsed": true
   },
   "outputs": [],
   "source": [
    "nin = Xtr_scale.shape[1]  # dimension of input data\n",
    "nh = 500    # number of hidden units\n",
    "nout = num_labels\n",
    "\n",
    "model = Sequential()\n",
    "model.add(Dense(nh, input_shape=(nin,), activation='sigmoid', name='hidden'))\n",
    "model.add(Dense(nout, activation='sigmoid', name='output'))"
   ]
  },
  {
   "cell_type": "code",
   "execution_count": 292,
   "metadata": {
    "scrolled": true
   },
   "outputs": [
    {
     "name": "stdout",
     "output_type": "stream",
     "text": [
      "_________________________________________________________________\n",
      "Layer (type)                 Output Shape              Param #   \n",
      "=================================================================\n",
      "hidden (Dense)               (None, 500)               6000      \n",
      "_________________________________________________________________\n",
      "output (Dense)               (None, 2)                 1002      \n",
      "=================================================================\n",
      "Total params: 7,002\n",
      "Trainable params: 7,002\n",
      "Non-trainable params: 0\n",
      "_________________________________________________________________\n"
     ]
    }
   ],
   "source": [
    "model.summary()"
   ]
  },
  {
   "cell_type": "markdown",
   "metadata": {},
   "source": [
    "To keep track of the loss history and validation accuracy, we will use a *callback* function as described in [Keras callback documentation](https://keras.io/callbacks/).  A callback is a class that is passed to the `fit` method.  "
   ]
  },
  {
   "cell_type": "code",
   "execution_count": 293,
   "metadata": {
    "collapsed": true
   },
   "outputs": [],
   "source": [
    "class LossHistory(keras.callbacks.Callback):\n",
    "    def on_train_begin(self, logs={}):\n",
    "        self.loss = []\n",
    "        self.val_acc = []\n",
    "        self.count = 1\n",
    " \n",
    "    def on_batch_end(self, batch, logs={}):\n",
    "        # This is called at the end of each batch.  \n",
    "        # Add the loss in logs.get('loss') to the loss list\n",
    "        loss = logs.get('loss')\n",
    "        self.loss.append(loss)\n",
    "        \n",
    "        \n",
    "    def on_epoch_end(self, epoch, logs):\n",
    "        # This is called at the end of each epoch.  \n",
    "        # Add the test accuracy in logs.get('val_acc') to the val_acc list\n",
    "        val_acc = logs.get('val_acc')\n",
    "        self.val_acc.append(val_acc)\n",
    "        \n",
    "        # Print the accuracy every 20 epochs\n",
    "        if self.count % 20 == 0 or self.count == 1:\n",
    "            print(\"Epoch {0}: accuracy is {1}%.\".format(self.count, round(val_acc*100, 2)))\n",
    "        self.count += 1\n",
    "        \n",
    "        \n",
    "\n",
    "# Create an instance of the history callback\n",
    "history_cb = LossHistory()"
   ]
  },
  {
   "cell_type": "markdown",
   "metadata": {},
   "source": [
    "Create an optimizer (Adam optimizer with a learning rate of 0.001) and compile the model."
   ]
  },
  {
   "cell_type": "code",
   "execution_count": 294,
   "metadata": {
    "collapsed": true,
    "scrolled": true
   },
   "outputs": [],
   "source": [
    "from keras import optimizers\n",
    "\n",
    "opt = optimizers.Adam(lr=0.001,beta_1=0.9, beta_2=0.999, epsilon=1e-08, decay=0.0)\n",
    "model.compile(optimizer=opt,\n",
    "              loss='sparse_categorical_crossentropy',\n",
    "              metrics=['accuracy'])\n"
   ]
  },
  {
   "cell_type": "markdown",
   "metadata": {},
   "source": [
    "Fit the model for 200 epochs using the scaled data for both the training and validation.  Use the `validation_data` option to pass the test data.  Also, pass the callback class create above.  "
   ]
  },
  {
   "cell_type": "code",
   "execution_count": 295,
   "metadata": {
    "scrolled": false
   },
   "outputs": [
    {
     "name": "stdout",
     "output_type": "stream",
     "text": [
      "Training...\n",
      "\n",
      "Epoch 1: accuracy is 70.03%.\n",
      "Epoch 20: accuracy is 82.03%.\n",
      "Epoch 40: accuracy is 85.2%.\n",
      "Epoch 60: accuracy is 86.28%.\n",
      "Epoch 80: accuracy is 87.33%.\n",
      "Epoch 100: accuracy is 88.13%.\n",
      "Epoch 120: accuracy is 88.82%.\n",
      "Epoch 140: accuracy is 89.33%.\n",
      "Epoch 160: accuracy is 89.03%.\n",
      "Epoch 180: accuracy is 89.32%.\n",
      "Epoch 200: accuracy is 90.03%.\n",
      "\n",
      "Done!\n"
     ]
    }
   ],
   "source": [
    "batch_size = 100\n",
    "nepochs = 200\n",
    "print(\"Training...\\n\")\n",
    "\n",
    "model.fit(Xtr_scale, ytr, \n",
    "          epochs=nepochs, \n",
    "          batch_size=100,\n",
    "          verbose=0,\n",
    "          validation_data=(Xts_scale,yts), \n",
    "          callbacks=[history_cb])\n",
    "\n",
    "print(\"\\nDone!\")"
   ]
  },
  {
   "cell_type": "markdown",
   "metadata": {},
   "source": [
    "Plot the validation accuracy saved in the `history_cb`. "
   ]
  },
  {
   "cell_type": "code",
   "execution_count": 297,
   "metadata": {},
   "outputs": [
    {
     "data": {
      "image/png": "[encoded data removed]",
      "text/plain": [
       "<matplotlib.figure.Figure at 0x133051a90>"
      ]
     },
     "metadata": {},
     "output_type": "display_data"
    },
    {
     "name": "stdout",
     "output_type": "stream",
     "text": [
      "The accuracy of the classifier is 90.03%.\n"
     ]
    }
   ],
   "source": [
    "epoch_it = np.linspace(0,nepochs,len(history_cb.val_acc))\n",
    "\n",
    "plt.plot(epoch_it, history_cb.val_acc)\n",
    "plt.grid()\n",
    "plt.xlabel('Epoch')\n",
    "plt.ylabel('Validation accuracy')\n",
    "plt.tight_layout()\n",
    "plt.show()\n",
    "print(\"The accuracy of the classifier is {0}%.\".format(round(history_cb.val_acc[-1]*100,2)))"
   ]
  },
  {
   "cell_type": "code",
   "execution_count": null,
   "metadata": {
    "collapsed": true
   },
   "outputs": [],
   "source": []
  }
 ],
 "metadata": {
  "anaconda-cloud": {},
  "kernelspec": {
   "display_name": "Python 3",
   "language": "python",
   "name": "python3"
  },
  "language_info": {
   "codemirror_mode": {
    "name": "ipython",
    "version": 3
   },
   "file_extension": ".py",
   "mimetype": "text/x-python",
   "name": "python",
   "nbconvert_exporter": "python",
   "pygments_lexer": "ipython3",
   "version": "3.6.3"
  }
 },
 "nbformat": 4,
 "nbformat_minor": 1
}
